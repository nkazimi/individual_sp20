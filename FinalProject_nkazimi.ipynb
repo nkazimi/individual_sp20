{
 "cells": [
  {
   "cell_type": "markdown",
   "metadata": {},
   "source": [
    "# COGS 108 - Final Project "
   ]
  },
  {
   "cell_type": "markdown",
   "metadata": {},
   "source": [
    "## Permissions"
   ]
  },
  {
   "cell_type": "markdown",
   "metadata": {},
   "source": [
    "Place an `X` in the appropriate bracket below to specify if you would like your group's project to be made available to the public. (Note that PIDs will be scraped from the public submission, but student names will be included.)\n",
    "\n",
    "* [X] YES - make available\n",
    "* [  ] NO - keep private"
   ]
  },
  {
   "cell_type": "markdown",
   "metadata": {},
   "source": [
    "# Overview"
   ]
  },
  {
   "cell_type": "markdown",
   "metadata": {},
   "source": [
    "I intrested that inspectation small and big restuarants a copuple of time in year can lead the owner of the restuarant to have responsible to keep the place as healthy possibe for safety of the customers. such inspection takes a list of general public from adverse health and safety of conditons, such as foodborne illnes. and to do better on safety of restuarnant I think the inspection should happen more than once a year. "
   ]
  },
  {
   "cell_type": "markdown",
   "metadata": {},
   "source": [
    "# Name\n",
    "\n",
    "- Navid Kazimi"
   ]
  },
  {
   "cell_type": "markdown",
   "metadata": {},
   "source": [
    "# Members ID\n",
    "\n",
    "- A15681500\n"
   ]
  },
  {
   "cell_type": "markdown",
   "metadata": {},
   "source": [
    "# Research Question"
   ]
  },
  {
   "cell_type": "markdown",
   "metadata": {},
   "source": [
    "Health inspectors usually make announcements to the restaurants a few times per year for visiting the restaurants in order to protect vendors and workers for food-borne illnesses and safety for the workers, and overall checking the whole entire kitchen for any contamination might happen. How many time per year is good to check the resturant safety throught out the year? "
   ]
  },
  {
   "cell_type": "markdown",
   "metadata": {},
   "source": [
    "## Background and Prior Work"
   ]
  },
  {
   "cell_type": "markdown",
   "metadata": {},
   "source": [
    "1)one important way to improve the health inspection of the local restaurant in the city is to be able to make a clear safety inspection for the employers that are working there and make food for people. The safety health inspection can help to reduce the risk of anything that can containment with bacteria and toxic chemical, and make food borne illnesses.\n",
    "\n",
    "2)Another important fact for not causing the food borne illnesses is the health investors make sure to check the foods temperature, for instance, the food that supposed to be in the freezer, make sure to keep them in ice while you using them in order to not bacteria grow on them and not put the people healths in danger. inspectors might pay attention to the thermometer in the fridge and freezer to make sure they work properly.\n",
    "    prior to dat analysis, I dug deep into what is the best way to improve the health inspection of the local restuarant in the city, the idea of safety inspection for the employers and the restuarnt would be a great way to s make the restuarant to be take care of the safety more and healthy meal for customers. \n",
    "    the minumum of safty inspection per year is two times a year. I would suggest more and often to be happen for safty part. my prior work gave me a good understanding of the project topic to take care of the restuarnt safty for better serve and help customers to have healthy meal. \n",
    "\n",
    "Sources\n",
    "\n",
    "https://www.menucoverdepot.com/resource-center/articles/restaurant-health-inspections/\n",
    "\n",
    "https://hbr.org/2019/05/to-improve-food-inspections-change-the-way-theyre-scheduled\n"
   ]
  },
  {
   "cell_type": "markdown",
   "metadata": {},
   "source": [
    "# Hypothesis\n"
   ]
  },
  {
   "cell_type": "markdown",
   "metadata": {},
   "source": [
    "My Hypothesis is checking restaurants at least every ten days by the inspector. That would help the owner of restaurants to take care of his/her business more safely. Also I believe for checking the restaurant inspection, an unscheduled inspection check can be a great fear for the owner to keep the place safe and healthy. also cleaning tables in restaurants can impact a lot of safety for customers who like to sit and enjoy their meal at the restaurant."
   ]
  },
  {
   "cell_type": "markdown",
   "metadata": {},
   "source": [
    "# Dataset(s)"
   ]
  },
  {
   "cell_type": "markdown",
   "metadata": {},
   "source": [
    "- Dataset Name: LA County Restaurant Inspections and Violations\n",
    "- Link to the dataset:  <https://www.kaggle.com/meganrisdal/la-county-restaurant-inspections-and-violations/data> \n",
    "- Number of observations: 39283\n",
    "\n",
    "This is a historical dataset covering the health inspection that mainly happens in the city of Los Angeles. The inspection happens once a year. and it shows a unique employee id, facility id, and owner id. Each restaurant has its own unique Id that would easily be understood and keep track of the restaurant. My goal is to keep restaurants grade pass 95 to keep the restaurant open and safe for customers. Also, this dataset contains Environmental health inspection for Restaurant and markets that have food in Los Angeles. the Environmental health of this city is responsible for inspections and enforcement activities for all other unincorporated areas which is about 85 to 88 cities in the county. \n",
    "This is a great data set to study because it is easy to understand how clean and healthy each restaurant is by the grade that inspection gives based on his knowledge. The data grade is from top highest to lowest grade\n",
    "\n",
    "\n",
    "| Attribute | Description |\n",
    "| :--- | :--- |\n",
    "| employee_id | Each restuarant is given a unique ID;|\n",
    "| facility_address |  The Address of restuarant |\n",
    "| facility_city | the name of city where the restuarant is located |\n",
    "| facility_id | Another unique Id for the facility |\n",
    "| facility_name | The Name of the facility |\n",
    "| facility_state | The name of the state where the restuarant is located |\n",
    "| facility_zip | Zip code of the restuarant |\n",
    "| grade | A grade for restuarnt that how good or bad when inspection happens |\n",
    "| owner_id | A unique Id number for the owner of the restuarant.  |"
   ]
  },
  {
   "cell_type": "markdown",
   "metadata": {},
   "source": [
    "# Setup"
   ]
  },
  {
   "cell_type": "code",
   "execution_count": null,
   "metadata": {},
   "outputs": [],
   "source": [
    "%matplotlib inline\n",
    "import numpy as np\n",
    "import pandas as pd\n",
    "import seaborn as sns\n",
    "import matplotlib.lines as mlines\n",
    "import patsy\n",
    "import scipy.stats as stats\n",
    "import statsmodels.api as sm\n",
    "import matplotlib.pyplot as plt\n",
    "import warnings\n",
    "warnings.filterwarnings('ignore')"
   ]
  },
  {
   "cell_type": "code",
   "execution_count": null,
   "metadata": {
    "scrolled": false
   },
   "outputs": [],
   "source": [
    "df = pd.read_csv('22532_92112_compressed_inspections.csv.zip')\n",
    "df"
   ]
  },
  {
   "cell_type": "code",
   "execution_count": null,
   "metadata": {},
   "outputs": [],
   "source": [
    "describe = df.describe()\n",
    "describe"
   ]
  },
  {
   "cell_type": "markdown",
   "metadata": {},
   "source": [
    "# Data Cleaning"
   ]
  },
  {
   "cell_type": "markdown",
   "metadata": {},
   "source": [
    "It's important to know the number of restaurants that are getting A. That means the majority of the restaurants are taking care of the safety and care about the customers' health. This way we can easily see the result of the restaurant and overall safety of restaurants that are located in Los Angeles. Therefore the highest A grade we see the better place to go and eat.\n"
   ]
  },
  {
   "cell_type": "markdown",
   "metadata": {},
   "source": [
    "By checking the value counts easily we can manage the resturants that are not getting grade A work on it more offen to improve their health and inspection."
   ]
  },
  {
   "cell_type": "code",
   "execution_count": null,
   "metadata": {},
   "outputs": [],
   "source": [
    "df['grade'].value_counts()\n"
   ]
  },
  {
   "cell_type": "code",
   "execution_count": null,
   "metadata": {},
   "outputs": [],
   "source": [
    "df[df['grade'] == 'A']"
   ]
  },
  {
   "cell_type": "markdown",
   "metadata": {},
   "source": [
    "# Data Analysis & Results"
   ]
  },
  {
   "cell_type": "markdown",
   "metadata": {},
   "source": [
    "To answer the question, I will split data up and investigate grade, owner_name, Facility City,and facility zipCode."
   ]
  },
  {
   "cell_type": "markdown",
   "metadata": {},
   "source": [
    "## 0) Split Data Between Grade A and C"
   ]
  },
  {
   "cell_type": "markdown",
   "metadata": {},
   "source": [
    "The first think that i want to split the data between resturant that get grad A, B and C. becasue grade C is not a good improve for our comunty to be safe and it makes people worry about their health. It's important that restuarnt should have a good inspection."
   ]
  },
  {
   "cell_type": "code",
   "execution_count": null,
   "metadata": {},
   "outputs": [],
   "source": [
    "# Split original dataframe between Resturant has A and C (A is good and C is worse)\n",
    "A_df = df[df['grade'] == 'A']\n",
    "B_df = df[df['grade'] == 'B']\n",
    "C_df = df[df['grade'] == 'C']\n",
    "\n",
    "# Get dataframe with all restuarnts  who has grade\n",
    "All_grade = df.dropna(axis=0)\n",
    "\n",
    "# Split grade dataframe between resturant has A B C\n",
    "A_grade = All_grade[All_grade['grade'] == 'A']\n",
    "B_grade = All_grade[All_grade['grade'] == 'B']\n",
    "C_grade = All_grade[All_grade['grade'] == 'C']\n"
   ]
  },
  {
   "cell_type": "markdown",
   "metadata": {},
   "source": [
    "## 1) Analysing the restuarnt that are earn A "
   ]
  },
  {
   "cell_type": "markdown",
   "metadata": {},
   "source": [
    "first count all resturant earn grade"
   ]
  },
  {
   "cell_type": "markdown",
   "metadata": {},
   "source": [
    "### 1.1) Analysis A grade resturant "
   ]
  },
  {
   "cell_type": "code",
   "execution_count": null,
   "metadata": {
    "scrolled": true
   },
   "outputs": [],
   "source": [
    "# Get the counts for resturant earn grade A\n",
    "Ag_grade = A_df['grade'].value_counts()\n",
    "\n",
    "# Get all grade that are recieve by inspection\n",
    "grade_total = df['grade'].value_counts()\n",
    "\n",
    "# Create a new dataframe with the data from the total grades\n",
    "grade_df = pd.DataFrame(grade_total)\n",
    "grade_df.reset_index()\n",
    "grade_df['A Grade'] = pd.Series(Ag_grade)\n",
    "grade_df['Percentage'] = (grade_df['A Grade'] / grade_df['grade'] * 100)\n",
    "grade_df = grade_df.dropna(axis=0)\n",
    "grade_df.index.names = ['grade']\n",
    "\n",
    "grade_df.head()"
   ]
  },
  {
   "cell_type": "code",
   "execution_count": null,
   "metadata": {},
   "outputs": [],
   "source": [
    "grade = A_grade['grade'].value_counts()\n",
    "total_grade = A_df['grade'].value_counts()\n",
    "grade_df = pd.DataFrame(grade_total)\n",
    "grade_df.reset_index()\n",
    "grade_df['best grade'] = pd.Series(grade)\n",
    "grade_df = grade_df.rename(index=str, columns={\"grade\": \"Total grade\"})\n",
    "grade_df['Percentage'] = grade_df['best grade'] / grade_df['Total grade'] * 100\n",
    "grade_df = grade_df.dropna(axis=0)\n",
    "grade_df = grade_df.reset_index()\n",
    "grade_df = grade_df.rename(index=str, columns={\"index\": \"grade\"})\n",
    "grade_df = grade_df.sort_values(by=['best grade'], ascending=False)\n",
    "grade_df.head()"
   ]
  },
  {
   "cell_type": "code",
   "execution_count": null,
   "metadata": {},
   "outputs": [],
   "source": [
    "# Get the counts of each restaurant have grade A\n",
    "grade = A_grade['grade'].value_counts()\n",
    "\n",
    "# Get the total counts for grade\n",
    "grade_total = A_df['grade'].value_counts()\n",
    "\n",
    "# Create a new dataframe with the data from the total grades\n",
    "grade_df = pd.DataFrame(grade_total)\n",
    "grade_df.reset_index()\n",
    "\n",
    "# Add the data for restaurant recieve A \n",
    "grade_df['best grade'] = pd.Series(grade)\n",
    "grade_df = grade_df.rename(index=str, columns={\"grade\": \"Total\"})\n",
    "grade_df['Percentage'] = grade_df['best grade'] / grade_df['Total'] * 100\n",
    "grade_df = grade_df.dropna(axis=0)\n",
    "grade_df = grade_df.reset_index()\n",
    "grade_df = grade_df.rename(index=str, columns={\"index\": \"grade\"})\n",
    "\n",
    "# Plot the data\n",
    "plt.figure(figsize=(20,5))\n",
    "ax = sns.barplot(x=\"grade\", y=\"Percentage\", data=grade_df)"
   ]
  },
  {
   "cell_type": "markdown",
   "metadata": {},
   "source": [
    "The plot on this picture does not show and expected what I wanted. however in this plot shows that lot's of place are passing the inspection safty. "
   ]
  },
  {
   "cell_type": "code",
   "execution_count": null,
   "metadata": {},
   "outputs": [],
   "source": [
    "# Sort the values in descending order\n",
    "grade_df = grade_df.sort_values(by=['Percentage'], ascending=False)\n",
    "A_df.head()"
   ]
  },
  {
   "cell_type": "code",
   "execution_count": null,
   "metadata": {},
   "outputs": [],
   "source": [
    "c_plot = sns.pairplot(A_df)"
   ]
  },
  {
   "cell_type": "code",
   "execution_count": null,
   "metadata": {},
   "outputs": [],
   "source": [
    "A_grade_year = A_grade.groupby(['activity_date', 'facility_name']).size().reset_index(name='Total A')\n",
    "A_grade_year=A_grade_year.sort_values(by=['activity_date', 'Total A'], ascending=False)\n",
    "A_grade_year.head()"
   ]
  },
  {
   "cell_type": "markdown",
   "metadata": {},
   "source": [
    "in this plot it shows that the number of safty inspection and passing a safty for customers is high and a lot of restaurant are passing the the inspectition 2 to 3 times per year. "
   ]
  },
  {
   "cell_type": "code",
   "execution_count": null,
   "metadata": {},
   "outputs": [],
   "source": [
    "Max_A =A_grade_year.groupby(['activity_date'])['Total A'].max().reset_index(name='Max A')\n",
    "plt.figure(figsize=(20,5))\n",
    "plot_t = sns.barplot(x=\"activity_date\", y= \"Max A\", data=Max_A)\n",
    "Max_A.head()"
   ]
  },
  {
   "cell_type": "markdown",
   "metadata": {},
   "source": [
    "### 1.2) Analysis B grade resturant"
   ]
  },
  {
   "cell_type": "code",
   "execution_count": null,
   "metadata": {},
   "outputs": [],
   "source": [
    "# Get the counts for resturant earn grade A\n",
    "Bg_grade = B_df['grade'].value_counts()\n",
    "\n",
    "# Get all grade that are recieve by inspection\n",
    "grade_total = df['grade'].value_counts()\n",
    "print(grade_total)\n",
    "\n",
    "# Create a new dataframe with the data from the total grades\n",
    "grade_df = pd.DataFrame(grade_total)\n",
    "grade_df.reset_index()\n",
    "\n",
    "grade_df['B Grade'] = pd.Series(Bg_grade)\n",
    "grade_df = grade_df.rename(index=str, columns={\"grade\": \"All Grades\"})\n",
    "grade_df['Percentage'] = grade_df['B Grade'] / grade_df['All Grades'] * 100\n",
    "grade_df = grade_df.dropna(axis=0)\n",
    "grade_df.index.names = ['grade']\n",
    "\n",
    "grade_df.head()"
   ]
  },
  {
   "cell_type": "code",
   "execution_count": null,
   "metadata": {},
   "outputs": [],
   "source": [
    "grade = B_grade['grade'].value_counts()\n",
    "total_grade = B_df['grade'].value_counts()\n",
    "grade_df = pd.DataFrame(grade_total)\n",
    "grade_df.reset_index()\n",
    "grade_df['best grade'] = pd.Series(grade)\n",
    "grade_df = grade_df.rename(index=str, columns={\"grade\": \"Total grade\"})\n",
    "grade_df['Percentage'] = grade_df['best grade'] / grade_df['Total grade'] * 100\n",
    "grade_df = grade_df.dropna(axis=0)\n",
    "grade_df = grade_df.reset_index()\n",
    "grade_df = grade_df.rename(index=str, columns={\"index\": \"grade\"})\n",
    "grade_df = grade_df.sort_values(by=['best grade'], ascending=False)\n",
    "grade_df.head()"
   ]
  },
  {
   "cell_type": "code",
   "execution_count": null,
   "metadata": {},
   "outputs": [],
   "source": [
    "# Get the counts of each restaurant have grade B\n",
    "grade = B_grade['grade'].value_counts()\n",
    "\n",
    "# Get the total counts for grade\n",
    "grade_total = B_df['grade'].value_counts()\n",
    "\n",
    "# Create a new dataframe with the data from the total grades\n",
    "grade_df = pd.DataFrame(grade_total)\n",
    "grade_df.reset_index()\n",
    "\n",
    "# Add the data for restaurant recieve A \n",
    "grade_df['best grade'] = pd.Series(grade)\n",
    "grade_df = grade_df.rename(index=str, columns={\"grade\": \"Total\"})\n",
    "grade_df['Percentage'] = grade_df['best grade'] / grade_df['Total'] * 100\n",
    "grade_df = grade_df.dropna(axis=0)\n",
    "grade_df = grade_df.reset_index()\n",
    "grade_df = grade_df.rename(index=str, columns={\"index\": \"grade\"})\n",
    "\n",
    "\n",
    "# Plot the data\n",
    "plt.figure(figsize=(20,5))\n",
    "ax = sns.barplot(x=\"grade\", y=\"Percentage\", data=grade_df)"
   ]
  },
  {
   "cell_type": "code",
   "execution_count": null,
   "metadata": {},
   "outputs": [],
   "source": [
    "grade_df = grade_df.sort_values(by=['Percentage'], ascending=False)\n",
    "B_df.head()"
   ]
  },
  {
   "cell_type": "code",
   "execution_count": null,
   "metadata": {},
   "outputs": [],
   "source": [
    "c_plot = sns.pairplot(B_df)"
   ]
  },
  {
   "cell_type": "code",
   "execution_count": null,
   "metadata": {},
   "outputs": [],
   "source": [
    "B_grade_year = B_grade.groupby(['activity_date', 'facility_name']).size().reset_index(name='Total B')\n",
    "B_grade_year=B_grade_year.sort_values(by=['activity_date', 'Total B'], ascending=False)\n",
    "B_grade_year.head()"
   ]
  },
  {
   "cell_type": "code",
   "execution_count": null,
   "metadata": {},
   "outputs": [],
   "source": [
    "Max_B =B_grade_year.groupby(['activity_date'])['Total B'].max().reset_index(name='Max B')\n",
    "plt.figure(figsize=(20,5))\n",
    "plot_t = sns.barplot(x=\"activity_date\", y= \"Max B\", data=Max_B)\n",
    "Max_B.head()"
   ]
  },
  {
   "cell_type": "markdown",
   "metadata": {},
   "source": [
    "### 1.3) Analysis C grade resturant"
   ]
  },
  {
   "cell_type": "markdown",
   "metadata": {},
   "source": [
    "now checking all the restuarant that has C grade "
   ]
  },
  {
   "cell_type": "code",
   "execution_count": null,
   "metadata": {},
   "outputs": [],
   "source": [
    "# Get the counts for resturant earn grade A\n",
    "Cg_grade = C_df['grade'].value_counts()\n",
    "\n",
    "# Get all grade that are recieve by inspection\n",
    "grade_total = df['grade'].value_counts()\n",
    "print(grade_total)\n",
    "\n",
    "# Create a new dataframe with the data from the total grades\n",
    "grade_df = pd.DataFrame(grade_total)\n",
    "grade_df.reset_index()\n",
    "\n",
    "grade_df['C Grade'] = pd.Series(Cg_grade)\n",
    "grade_df = grade_df.rename(index=str, columns={\"grade\": \"All Grades\"})\n",
    "grade_df['Percentage'] = grade_df['C Grade'] / grade_df['All Grades'] * 100\n",
    "grade_df = grade_df.dropna(axis=0)\n",
    "grade_df.index.names = ['grade']\n",
    "\n",
    "grade_df.head()"
   ]
  },
  {
   "cell_type": "code",
   "execution_count": null,
   "metadata": {},
   "outputs": [],
   "source": [
    "grade = C_grade['grade'].value_counts()\n",
    "total_grade = C_df['grade'].value_counts()\n",
    "grade_df = pd.DataFrame(grade_total)\n",
    "grade_df.reset_index()\n",
    "grade_df['best grade'] = pd.Series(grade)\n",
    "grade_df = grade_df.rename(index=str, columns={\"grade\": \"Total grade\"})\n",
    "grade_df['Percentage'] = grade_df['best grade'] / grade_df['Total grade'] * 100\n",
    "grade_df = grade_df.dropna(axis=0)\n",
    "grade_df = grade_df.reset_index()\n",
    "grade_df = grade_df.rename(index=str, columns={\"index\": \"grade\"})\n",
    "grade_df = grade_df.sort_values(by=['best grade'], ascending=False)\n",
    "grade_df.head()"
   ]
  },
  {
   "cell_type": "code",
   "execution_count": null,
   "metadata": {},
   "outputs": [],
   "source": [
    "c_plot = sns.pairplot(C_df)"
   ]
  },
  {
   "cell_type": "code",
   "execution_count": null,
   "metadata": {},
   "outputs": [],
   "source": [
    "C_grade_year = C_grade.groupby(['activity_date', 'facility_name']).size().reset_index(name='Total C')\n",
    "C_grade_year=C_grade_year.sort_values(by=['activity_date', 'Total C'], ascending=False)\n",
    "C_grade_year.head()"
   ]
  },
  {
   "cell_type": "code",
   "execution_count": null,
   "metadata": {},
   "outputs": [],
   "source": [
    "Max_C =C_grade_year.groupby(['activity_date'])['Total C'].max().reset_index(name='Max C')\n",
    "plt.figure(figsize=(20,5))\n",
    "plot_t = sns.barplot(x=\"activity_date\", y= \"Max C\", data=Max_C)\n",
    "Max_C.head()"
   ]
  },
  {
   "cell_type": "markdown",
   "metadata": {},
   "source": [
    "this shows that the restuarant with having A grade is much more healtier place to visit.  "
   ]
  },
  {
   "cell_type": "markdown",
   "metadata": {},
   "source": [
    "# Ethics & Privacy"
   ]
  },
  {
   "cell_type": "markdown",
   "metadata": {},
   "source": [
    "This data is taken by public record and the licence is allowed for public use and allowed to modify. In other words there is no concern of the ethics of being able to use, because it is publicly available to use and modify. The data is collected for the restaurant inspection base of the name, place, name of owner, score, grade, and data collected bases of the highest score inspection would show the more safety that place is.\n",
    "I oftem get lost of that what would happen to restuarant that are have less C grade, those are should be the one get a warning to work harder and be able to provide healty food for customers. the data that are collected it shows that the inspection is happening most of the time once a year. which I expected the inspection a lot more than one time. My goal to clean all the data come from bias which it seems was non because all the data was base of record. \n"
   ]
  },
  {
   "cell_type": "markdown",
   "metadata": {},
   "source": [
    "# Conclusion & Discussion"
   ]
  },
  {
   "cell_type": "markdown",
   "metadata": {},
   "source": [
    "From my analysis, That the restuarant have better place and better point they recieving from the inspector has better chance to keep their restuarant for longer time. Also, be able to provide better food for customers. another thing that when a place is clean to eat many people are going to have great feedback about in yelp and will recommed the place to other friends and family. \n",
    "    therefore, the  health inspectors have great responsible to check for the places and make sure that the place is good serve food to people. Also, workers nd vendors are work cleaner when they know there will be inspctor come soon. I expected that inspectors are 2 to 3 times per year, however, I notice it just happen once a year. "
   ]
  }
 ],
 "metadata": {
  "kernelspec": {
   "display_name": "Python 3",
   "language": "python",
   "name": "python3"
  },
  "language_info": {
   "codemirror_mode": {
    "name": "ipython",
    "version": 3
   },
   "file_extension": ".py",
   "mimetype": "text/x-python",
   "name": "python",
   "nbconvert_exporter": "python",
   "pygments_lexer": "ipython3",
   "version": "3.7.6"
  }
 },
 "nbformat": 4,
 "nbformat_minor": 2
}
